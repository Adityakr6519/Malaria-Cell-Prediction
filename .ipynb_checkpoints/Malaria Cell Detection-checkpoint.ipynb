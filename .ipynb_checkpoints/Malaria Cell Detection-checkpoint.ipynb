{
 "cells": [
  {
   "cell_type": "markdown",
   "id": "64126098",
   "metadata": {},
   "source": [
    "#                                             <center>Malaria Cell Detection</center>"
   ]
  },
  {
   "cell_type": "markdown",
   "id": "c776dad1",
   "metadata": {},
   "source": [
    "<center><img src=\"https://media.giphy.com/media/132Afq7xvIjJy8/giphy.gif\" width=350></ceenter>"
   ]
  },
  {
   "cell_type": "markdown",
   "id": "303145eb",
   "metadata": {},
   "source": [
    "# Importing libraries "
   ]
  },
  {
   "cell_type": "code",
   "execution_count": 1,
   "id": "05f09123",
   "metadata": {},
   "outputs": [
    {
     "name": "stdout",
     "output_type": "stream",
     "text": [
      "WARNING:tensorflow:From D:\\Anaconda\\Lib\\site-packages\\keras\\src\\losses.py:2976: The name tf.losses.sparse_softmax_cross_entropy is deprecated. Please use tf.compat.v1.losses.sparse_softmax_cross_entropy instead.\n",
      "\n"
     ]
    }
   ],
   "source": [
    "import numpy as np\n",
    "import matplotlib.pyplot as plt\n",
    "import os\n",
    "import pandas as pd\n",
    "import cv2\n",
    "from PIL import Image\n",
    "from tensorflow import keras\n",
    "import tensorflow.keras.layers as k\n",
    "from tqdm.notebook import tqdm\n",
    "from keras.preprocessing.image import ImageDataGenerator,load_img\n",
    "from keras.utils  import to_categorical\n",
    "from sklearn.model_selection import train_test_split"
   ]
  },
  {
   "cell_type": "markdown",
   "id": "ac4a5f36",
   "metadata": {},
   "source": [
    "# Converting images to same pixels size and array conversion for input format"
   ]
  },
  {
   "cell_type": "code",
   "execution_count": 2,
   "id": "47fd8b54",
   "metadata": {},
   "outputs": [
    {
     "data": {
      "image/png": "[encoded data removed]",
      "text/plain": [
       "<PIL.Image.Image image mode=RGB size=64x64>"
      ]
     },
     "execution_count": 2,
     "metadata": {},
     "output_type": "execute_result"
    }
   ],
   "source": [
    "load_img(\"Malarial Cell Image Data\\cell_images\\Parasitized\\C33P1thinF_IMG_20150619_114756a_cell_181.png\",target_size=(64,64))"
   ]
  },
  {
   "cell_type": "code",
   "execution_count": 3,
   "id": "4188781a",
   "metadata": {},
   "outputs": [],
   "source": [
    "# setting tensorflow as backend\n",
    "os.environ[\"KERAS_BACKEND\"]=\"tensorflow\""
   ]
  },
  {
   "cell_type": "code",
   "execution_count": 4,
   "id": "3d13a006",
   "metadata": {},
   "outputs": [],
   "source": [
    "# to get same output when using rand\n",
    "np.random.seed(312)"
   ]
  },
  {
   "cell_type": "code",
   "execution_count": 5,
   "id": "30a15697",
   "metadata": {},
   "outputs": [],
   "source": [
    "# to store initial path and other two to store all data and their labels\n",
    "image_dir=\"Malarial Cell Image Data/cell_images\"\n",
    "data_x=[]\n",
    "data_y=[]"
   ]
  },
  {
   "cell_type": "code",
   "execution_count": 6,
   "id": "ef47f759",
   "metadata": {},
   "outputs": [],
   "source": [
    "# full path for parasited cells\n",
    "para_img=os.listdir(image_dir+\"/Parasitized\")"
   ]
  },
  {
   "cell_type": "code",
   "execution_count": 7,
   "id": "f6e37e09",
   "metadata": {},
   "outputs": [
    {
     "data": {
      "application/vnd.jupyter.widget-view+json": {
       "model_id": "379d67be59484e6284ad2a9a32e976a0",
       "version_major": 2,
       "version_minor": 0
      },
      "text/plain": [
       "  0%|          | 0/4100 [00:00<?, ?it/s]"
      ]
     },
     "metadata": {},
     "output_type": "display_data"
    }
   ],
   "source": [
    "# fetching parasited images and conerting same pixels size and array format and storing in data along with labels\n",
    "for i in tqdm(para_img[:4100]):\n",
    "    path=image_dir+\"\\Parasitized\"+\"\\\\\"+i\n",
    "    img_array=cv2.imread(path)\n",
    "    img_resized=Image.fromarray(img_array,\"RGB\")\n",
    "    img_resized=img_resized.resize((64,64))\n",
    "    img=np.array(img_resized)\n",
    "    data_x.append(img)\n",
    "    data_y.append(1)"
   ]
  },
  {
   "cell_type": "code",
   "execution_count": 8,
   "id": "b1a84ee0",
   "metadata": {},
   "outputs": [],
   "source": [
    "# full paths of uninfected cells\n",
    "un_img=os.listdir(image_dir+\"/Uninfected\")"
   ]
  },
  {
   "cell_type": "code",
   "execution_count": 9,
   "id": "49ed2431",
   "metadata": {},
   "outputs": [
    {
     "data": {
      "application/vnd.jupyter.widget-view+json": {
       "model_id": "9e1ab6c332a146a0a96b7fb21b2b1881",
       "version_major": 2,
       "version_minor": 0
      },
      "text/plain": [
       "  0%|          | 0/4100 [00:00<?, ?it/s]"
      ]
     },
     "metadata": {},
     "output_type": "display_data"
    }
   ],
   "source": [
    "# fetching uninfected images and conerting same pixels size and array format and storing in data along with labels\n",
    "for i in tqdm(un_img[:4100]):\n",
    "    path=image_dir+\"/Uninfected\"+\"/\"+i\n",
    "    img_array=cv2.imread(path)\n",
    "    img_resized=Image.fromarray(img_array,\"RGB\")\n",
    "    img_resized=img_resized.resize((64,64))\n",
    "    img=np.array(img_resized)\n",
    "    data_x.append(img)\n",
    "    data_y.append(0)"
   ]
  },
  {
   "cell_type": "markdown",
   "id": "e98275a3",
   "metadata": {},
   "source": [
    "# Splitting data for training and testing"
   ]
  },
  {
   "cell_type": "code",
   "execution_count": 10,
   "id": "7a323d5b",
   "metadata": {},
   "outputs": [],
   "source": [
    "# splitting data to 2 parts for testing and training \n",
    "x_train,x_test,y_train,y_test=train_test_split(data_x,to_categorical(data_y),test_size=0.3)"
   ]
  },
  {
   "cell_type": "code",
   "execution_count": 11,
   "id": "e5659fb8",
   "metadata": {},
   "outputs": [],
   "source": [
    "# (1,0) means uninfected while (0,1) means infected"
   ]
  },
  {
   "cell_type": "markdown",
   "id": "a2c630d2",
   "metadata": {},
   "source": [
    "# Preaparing Model CNN + Neural Network"
   ]
  },
  {
   "cell_type": "markdown",
   "id": "09d22042",
   "metadata": {},
   "source": [
    "<center><img src=\"https://media.giphy.com/media/5k5vZwRFZR5aZeniqb/giphy.gif\" width=300></center>"
   ]
  },
  {
   "cell_type": "code",
   "execution_count": 12,
   "id": "d6629b4b",
   "metadata": {},
   "outputs": [
    {
     "name": "stdout",
     "output_type": "stream",
     "text": [
      "WARNING:tensorflow:From D:\\Anaconda\\Lib\\site-packages\\keras\\src\\backend.py:1398: The name tf.executing_eagerly_outside_functions is deprecated. Please use tf.compat.v1.executing_eagerly_outside_functions instead.\n",
      "\n",
      "WARNING:tensorflow:From D:\\Anaconda\\Lib\\site-packages\\keras\\src\\layers\\pooling\\max_pooling2d.py:161: The name tf.nn.max_pool is deprecated. Please use tf.nn.max_pool2d instead.\n",
      "\n",
      "WARNING:tensorflow:From D:\\Anaconda\\Lib\\site-packages\\keras\\src\\optimizers\\__init__.py:309: The name tf.train.Optimizer is deprecated. Please use tf.compat.v1.train.Optimizer instead.\n",
      "\n"
     ]
    }
   ],
   "source": [
    "# Defining Architecture of model\n",
    "inp=k.Input(shape=(64,64,3))\n",
    "conv1=k.Conv2D(32,kernel_size=(3,3),activation=\"relu\",padding=\"same\")(inp)\n",
    "pool1=k.MaxPool2D(pool_size=(2,2))(conv1)\n",
    "norm1=k.BatchNormalization(axis=-1)(pool1)\n",
    "drop1=k.Dropout(rate=0.2)(norm1)\n",
    "conv2=k.Conv2D(32,kernel_size=(3,3),activation=\"relu\",padding=\"same\")(drop1)\n",
    "pool2=k.MaxPool2D(pool_size=(2,2))(conv2)\n",
    "norm2=k.BatchNormalization(axis=-1)(pool2)\n",
    "drop2=k.Dropout(rate=0.2)(norm2)\n",
    "flat=k.Flatten()(drop2)\n",
    "hidden1=k.Dense(512,activation=\"relu\")(flat)\n",
    "norm3=k.BatchNormalization(axis=-1)(hidden1)\n",
    "drop3=k.Dropout(rate=0.2)(norm3)\n",
    "hidden2=k.Dense(216,activation=\"relu\")(drop3)\n",
    "norm4=k.BatchNormalization(axis=-1)(hidden2)\n",
    "drop4=k.Dropout(rate=0.2)(norm4)\n",
    "out=k.Dense(2,activation=\"sigmoid\")(drop4)\n",
    "model=keras.Model(inputs=inp,outputs=out)\n",
    "model.compile(optimizer=\"Adam\",metrics=[\"accuracy\"],loss=\"categorical_crossentropy\")"
   ]
  },
  {
   "cell_type": "markdown",
   "id": "1acdca2e",
   "metadata": {},
   "source": [
    "# Training the model"
   ]
  },
  {
   "cell_type": "code",
   "execution_count": 13,
   "id": "b150d58a",
   "metadata": {},
   "outputs": [
    {
     "name": "stdout",
     "output_type": "stream",
     "text": [
      "Epoch 1/15\n",
      "WARNING:tensorflow:From D:\\Anaconda\\Lib\\site-packages\\keras\\src\\utils\\tf_utils.py:492: The name tf.ragged.RaggedTensorValue is deprecated. Please use tf.compat.v1.ragged.RaggedTensorValue instead.\n",
      "\n",
      "WARNING:tensorflow:From D:\\Anaconda\\Lib\\site-packages\\keras\\src\\engine\\base_layer_utils.py:384: The name tf.executing_eagerly_outside_functions is deprecated. Please use tf.compat.v1.executing_eagerly_outside_functions instead.\n",
      "\n",
      "45/45 [==============================] - 17s 301ms/step - loss: 0.5014 - accuracy: 0.7955\n",
      "Epoch 2/15\n",
      "45/45 [==============================] - 14s 313ms/step - loss: 0.3224 - accuracy: 0.8552\n",
      "Epoch 3/15\n",
      "45/45 [==============================] - 14s 322ms/step - loss: 0.2672 - accuracy: 0.8793\n",
      "Epoch 4/15\n",
      "45/45 [==============================] - 14s 319ms/step - loss: 0.2189 - accuracy: 0.9056\n",
      "Epoch 5/15\n",
      "45/45 [==============================] - 15s 323ms/step - loss: 0.1799 - accuracy: 0.9287\n",
      "Epoch 6/15\n",
      "45/45 [==============================] - 15s 323ms/step - loss: 0.1316 - accuracy: 0.9479\n",
      "Epoch 7/15\n",
      "45/45 [==============================] - 15s 327ms/step - loss: 0.1091 - accuracy: 0.9577\n",
      "Epoch 8/15\n",
      "45/45 [==============================] - 15s 328ms/step - loss: 0.0912 - accuracy: 0.9639\n",
      "Epoch 9/15\n",
      "45/45 [==============================] - 14s 319ms/step - loss: 0.0748 - accuracy: 0.9713\n",
      "Epoch 10/15\n",
      "45/45 [==============================] - 15s 323ms/step - loss: 0.0652 - accuracy: 0.9732\n",
      "Epoch 11/15\n",
      "45/45 [==============================] - 15s 326ms/step - loss: 0.0502 - accuracy: 0.9828\n",
      "Epoch 12/15\n",
      "45/45 [==============================] - 14s 321ms/step - loss: 0.0495 - accuracy: 0.9834\n",
      "Epoch 13/15\n",
      "45/45 [==============================] - 15s 324ms/step - loss: 0.0439 - accuracy: 0.9829\n",
      "Epoch 14/15\n",
      "45/45 [==============================] - 15s 324ms/step - loss: 0.0400 - accuracy: 0.9843\n",
      "Epoch 15/15\n",
      "45/45 [==============================] - 15s 322ms/step - loss: 0.0351 - accuracy: 0.9868\n"
     ]
    },
    {
     "data": {
      "text/plain": [
       "<keras.src.callbacks.History at 0x20711208d90>"
      ]
     },
     "execution_count": 13,
     "metadata": {},
     "output_type": "execute_result"
    }
   ],
   "source": [
    "# Fitting aka training the model\n",
    "model.fit(np.array(x_train),y_train,batch_size=128,verbose=1,epochs=15)"
   ]
  },
  {
   "cell_type": "markdown",
   "id": "c5120fff",
   "metadata": {},
   "source": [
    "# Predicting a.k.a Testing"
   ]
  },
  {
   "cell_type": "code",
   "execution_count": 14,
   "id": "a4150390",
   "metadata": {},
   "outputs": [
    {
     "name": "stdout",
     "output_type": "stream",
     "text": [
      "77/77 [==============================] - 2s 26ms/step\n"
     ]
    }
   ],
   "source": [
    "# getting model predictions\n",
    "y_predict=model.predict(np.array(x_test))"
   ]
  },
  {
   "cell_type": "code",
   "execution_count": 15,
   "id": "9ba97d3a",
   "metadata": {},
   "outputs": [
    {
     "data": {
      "text/plain": [
       "array([[0.02915121, 0.9799233 ],\n",
       "       [0.9994389 , 0.00133332],\n",
       "       [0.1114294 , 0.80060905],\n",
       "       ...,\n",
       "       [0.8263661 , 0.5770953 ],\n",
       "       [0.26437783, 0.9227317 ],\n",
       "       [0.9957358 , 0.01202773]], dtype=float32)"
      ]
     },
     "execution_count": 15,
     "metadata": {},
     "output_type": "execute_result"
    }
   ],
   "source": [
    "y_predict"
   ]
  },
  {
   "cell_type": "code",
   "execution_count": 16,
   "id": "4a748a30",
   "metadata": {},
   "outputs": [],
   "source": [
    "# coversion of prediction to result format\n",
    "for i in range(len(y_predict)):\n",
    "    idx1=y_predict[i][0]\n",
    "    idx2=y_predict[i][1]\n",
    "    if idx1>0.5:\n",
    "        y_predict[i][0]=1\n",
    "    else:\n",
    "        y_predict[i][0]=0\n",
    "    if idx2>0.5:\n",
    "        y_predict[i][1]=1\n",
    "    else:\n",
    "        y_predict[i][1]=0"
   ]
  },
  {
   "cell_type": "markdown",
   "id": "49333b10",
   "metadata": {},
   "source": [
    "#  Check for Accuracy"
   ]
  },
  {
   "cell_type": "code",
   "execution_count": 17,
   "id": "a9cbd10f",
   "metadata": {},
   "outputs": [
    {
     "name": "stdout",
     "output_type": "stream",
     "text": [
      "Correct prediction count :  2038\n",
      "Incorrect prediction count :  422\n"
     ]
    }
   ],
   "source": [
    "# Counting correct and wrong predictions\n",
    "correct=0\n",
    "wrong=0\n",
    "for i in range(len(y_test)):\n",
    "    if y_test[i][0]==y_predict[i][0] and y_test[i][1]==y_predict[i][1]:\n",
    "        correct+=1\n",
    "    else:\n",
    "        wrong+=1\n",
    "print(\"Correct prediction count : \",correct)\n",
    "print(\"Incorrect prediction count : \",wrong)"
   ]
  },
  {
   "cell_type": "code",
   "execution_count": 19,
   "id": "f347149b",
   "metadata": {},
   "outputs": [
    {
     "name": "stdout",
     "output_type": "stream",
     "text": [
      "R2_score :  82.84552845528455\n"
     ]
    }
   ],
   "source": [
    "# Accuracy using r2_score method\n",
    "R2_score=correct*100/(correct+wrong)\n",
    "print(\"R2_score : \",R2_score)"
   ]
  },
  {
   "cell_type": "markdown",
   "id": "ff9c7328",
   "metadata": {},
   "source": [
    "<center><img src=\"https://media.giphy.com/media/3mgqx7KV95ESazDCCn/giphy.gif\" width=500></center>"
   ]
  }
 ],
 "metadata": {
  "kernelspec": {
   "display_name": "Python 3 (ipykernel)",
   "language": "python",
   "name": "python3"
  },
  "language_info": {
   "codemirror_mode": {
    "name": "ipython",
    "version": 3
   },
   "file_extension": ".py",
   "mimetype": "text/x-python",
   "name": "python",
   "nbconvert_exporter": "python",
   "pygments_lexer": "ipython3",
   "version": "3.11.5"
  }
 },
 "nbformat": 4,
 "nbformat_minor": 5
}
